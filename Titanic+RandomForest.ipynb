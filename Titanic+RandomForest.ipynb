{
  "nbformat": 4,
  "nbformat_minor": 0,
  "metadata": {
    "colab": {
      "name": "Titanic+RF+4Classifiers.ipynb",
      "provenance": [],
      "collapsed_sections": []
    },
    "kernelspec": {
      "name": "python3",
      "display_name": "Python 3"
    }
  },
  "cells": [
    {
      "cell_type": "markdown",
      "metadata": {
        "id": "ddiwjo-zJoiI",
        "colab_type": "text"
      },
      "source": [
        "#**`This Notebook is an Illustration to Implement Random Forest Classifier with Sklearn using Python 🐍`**\n",
        "\n",
        "For more infomation, check out [RFC](https://scikit-learn.org/stable/modules/generated/sklearn.ensemble.RandomForestClassifier.html).\n",
        "\n",
        " "
      ]
    },
    {
      "cell_type": "markdown",
      "metadata": {
        "id": "yAou3ljpKh-_",
        "colab_type": "text"
      },
      "source": [
        "## **Setup**\n",
        "Let's setup the imports:       "
      ]
    },
    {
      "cell_type": "code",
      "metadata": {
        "id": "3vhg6QAG2MUv",
        "colab_type": "code",
        "colab": {
          "base_uri": "https://localhost:8080/",
          "height": 72
        },
        "outputId": "a92d82cf-4756-456f-8595-8cb5e3db9990"
      },
      "source": [
        "import pandas as pd\n",
        "import numpy as np\n",
        "import matplotlib.pyplot as plt\n",
        "%matplotlib inline\n",
        "\n",
        "import seaborn as sns\n",
        "sns.set_palette('cool')\n",
        "from matplotlib.colors import ListedColormap\n",
        "\n",
        "from sklearn.ensemble import RandomForestClassifier\n",
        "from sklearn.linear_model import LogisticRegression\n",
        "from sklearn.neighbors import KNeighborsClassifier\n",
        "from sklearn.svm import SVC\n",
        "from sklearn.ensemble import RandomForestRegressor\n",
        "from sklearn.model_selection import GridSearchCV\n",
        "\n",
        "from sklearn.model_selection import train_test_split\n",
        "from sklearn.preprocessing import MinMaxScaler\n",
        "\n",
        "from sklearn.metrics import accuracy_score, classification_report, confusion_matrix\n",
        "\n",
        "# custom color maps\n",
        "cm_dark = ListedColormap(['#ff6060', '#8282ff','#ffaa00','#fff244','#4df9b9','#76e8fc','#3ad628'])\n",
        "cm_bright = ListedColormap(['#ffafaf', '#c6c6ff','#ffaa00','#ffe2a8','#bfffe7','#c9f7ff','#9eff93']) "
      ],
      "execution_count": null,
      "outputs": [
        {
          "output_type": "stream",
          "text": [
            "/usr/local/lib/python3.6/dist-packages/statsmodels/tools/_testing.py:19: FutureWarning: pandas.util.testing is deprecated. Use the functions in the public API at pandas.testing instead.\n",
            "  import pandas.util.testing as tm\n"
          ],
          "name": "stderr"
        }
      ]
    },
    {
      "cell_type": "markdown",
      "metadata": {
        "id": "Xi-v3JaWKtBn",
        "colab_type": "text"
      },
      "source": [
        "## **Dataset**\n",
        "Let's load the classic Titanic dataset which is uploaded on my Google Drive. "
      ]
    },
    {
      "cell_type": "code",
      "metadata": {
        "id": "brGD4BoN1a0f",
        "colab_type": "code",
        "colab": {
          "base_uri": "https://localhost:8080/",
          "height": 87
        },
        "outputId": "39fa04e7-6a4e-4b00-bee7-9ae07a31521b"
      },
      "source": [
        "!gdown --id 1nXYZU4EafiqEjC38QHThFNvSvW3Uai_L "
      ],
      "execution_count": null,
      "outputs": [
        {
          "output_type": "stream",
          "text": [
            "Downloading...\n",
            "From: https://drive.google.com/uc?id=1nXYZU4EafiqEjC38QHThFNvSvW3Uai_L\n",
            "To: /content/train.csv\n",
            "\r  0% 0.00/61.2k [00:00<?, ?B/s]\r100% 61.2k/61.2k [00:00<00:00, 22.0MB/s]\n"
          ],
          "name": "stdout"
        }
      ]
    },
    {
      "cell_type": "markdown",
      "metadata": {
        "id": "L3HBRwreLTUA",
        "colab_type": "text"
      },
      "source": [
        "Let's read the CVS files:   "
      ]
    },
    {
      "cell_type": "code",
      "metadata": {
        "id": "hlrPxMzR2MQ_",
        "colab_type": "code",
        "colab": {}
      },
      "source": [
        "df = pd.read_csv(\"/content/train.csv\") "
      ],
      "execution_count": null,
      "outputs": []
    },
    {
      "cell_type": "code",
      "metadata": {
        "id": "jihU7oVm2MNP",
        "colab_type": "code",
        "colab": {
          "base_uri": "https://localhost:8080/",
          "height": 202
        },
        "outputId": "45437611-9cd9-4867-92d1-1d08a9a96ccc"
      },
      "source": [
        "df.head() "
      ],
      "execution_count": null,
      "outputs": [
        {
          "output_type": "execute_result",
          "data": {
            "text/html": [
              "<div>\n",
              "<style scoped>\n",
              "    .dataframe tbody tr th:only-of-type {\n",
              "        vertical-align: middle;\n",
              "    }\n",
              "\n",
              "    .dataframe tbody tr th {\n",
              "        vertical-align: top;\n",
              "    }\n",
              "\n",
              "    .dataframe thead th {\n",
              "        text-align: right;\n",
              "    }\n",
              "</style>\n",
              "<table border=\"1\" class=\"dataframe\">\n",
              "  <thead>\n",
              "    <tr style=\"text-align: right;\">\n",
              "      <th></th>\n",
              "      <th>PassengerId</th>\n",
              "      <th>Survived</th>\n",
              "      <th>Pclass</th>\n",
              "      <th>Name</th>\n",
              "      <th>Sex</th>\n",
              "      <th>Age</th>\n",
              "      <th>SibSp</th>\n",
              "      <th>Parch</th>\n",
              "      <th>Ticket</th>\n",
              "      <th>Fare</th>\n",
              "      <th>Cabin</th>\n",
              "      <th>Embarked</th>\n",
              "    </tr>\n",
              "  </thead>\n",
              "  <tbody>\n",
              "    <tr>\n",
              "      <th>0</th>\n",
              "      <td>1</td>\n",
              "      <td>0</td>\n",
              "      <td>3</td>\n",
              "      <td>Braund, Mr. Owen Harris</td>\n",
              "      <td>male</td>\n",
              "      <td>22.0</td>\n",
              "      <td>1</td>\n",
              "      <td>0</td>\n",
              "      <td>A/5 21171</td>\n",
              "      <td>7.2500</td>\n",
              "      <td>NaN</td>\n",
              "      <td>S</td>\n",
              "    </tr>\n",
              "    <tr>\n",
              "      <th>1</th>\n",
              "      <td>2</td>\n",
              "      <td>1</td>\n",
              "      <td>1</td>\n",
              "      <td>Cumings, Mrs. John Bradley (Florence Briggs Th...</td>\n",
              "      <td>female</td>\n",
              "      <td>38.0</td>\n",
              "      <td>1</td>\n",
              "      <td>0</td>\n",
              "      <td>PC 17599</td>\n",
              "      <td>71.2833</td>\n",
              "      <td>C85</td>\n",
              "      <td>C</td>\n",
              "    </tr>\n",
              "    <tr>\n",
              "      <th>2</th>\n",
              "      <td>3</td>\n",
              "      <td>1</td>\n",
              "      <td>3</td>\n",
              "      <td>Heikkinen, Miss. Laina</td>\n",
              "      <td>female</td>\n",
              "      <td>26.0</td>\n",
              "      <td>0</td>\n",
              "      <td>0</td>\n",
              "      <td>STON/O2. 3101282</td>\n",
              "      <td>7.9250</td>\n",
              "      <td>NaN</td>\n",
              "      <td>S</td>\n",
              "    </tr>\n",
              "    <tr>\n",
              "      <th>3</th>\n",
              "      <td>4</td>\n",
              "      <td>1</td>\n",
              "      <td>1</td>\n",
              "      <td>Futrelle, Mrs. Jacques Heath (Lily May Peel)</td>\n",
              "      <td>female</td>\n",
              "      <td>35.0</td>\n",
              "      <td>1</td>\n",
              "      <td>0</td>\n",
              "      <td>113803</td>\n",
              "      <td>53.1000</td>\n",
              "      <td>C123</td>\n",
              "      <td>S</td>\n",
              "    </tr>\n",
              "    <tr>\n",
              "      <th>4</th>\n",
              "      <td>5</td>\n",
              "      <td>0</td>\n",
              "      <td>3</td>\n",
              "      <td>Allen, Mr. William Henry</td>\n",
              "      <td>male</td>\n",
              "      <td>35.0</td>\n",
              "      <td>0</td>\n",
              "      <td>0</td>\n",
              "      <td>373450</td>\n",
              "      <td>8.0500</td>\n",
              "      <td>NaN</td>\n",
              "      <td>S</td>\n",
              "    </tr>\n",
              "  </tbody>\n",
              "</table>\n",
              "</div>"
            ],
            "text/plain": [
              "   PassengerId  Survived  Pclass  ...     Fare Cabin  Embarked\n",
              "0            1         0       3  ...   7.2500   NaN         S\n",
              "1            2         1       1  ...  71.2833   C85         C\n",
              "2            3         1       3  ...   7.9250   NaN         S\n",
              "3            4         1       1  ...  53.1000  C123         S\n",
              "4            5         0       3  ...   8.0500   NaN         S\n",
              "\n",
              "[5 rows x 12 columns]"
            ]
          },
          "metadata": {
            "tags": []
          },
          "execution_count": 4
        }
      ]
    },
    {
      "cell_type": "code",
      "metadata": {
        "id": "yOq5Dh7a2MGH",
        "colab_type": "code",
        "colab": {
          "base_uri": "https://localhost:8080/",
          "height": 35
        },
        "outputId": "f7a7d1be-cadc-47ba-9fa8-e7a075cbec67"
      },
      "source": [
        "df.shape"
      ],
      "execution_count": null,
      "outputs": [
        {
          "output_type": "execute_result",
          "data": {
            "text/plain": [
              "(891, 12)"
            ]
          },
          "metadata": {
            "tags": []
          },
          "execution_count": 5
        }
      ]
    },
    {
      "cell_type": "markdown",
      "metadata": {
        "id": "T4XAROseLas4",
        "colab_type": "text"
      },
      "source": [
        "Let's see the columns present in our dataFrame:\n",
        "\n",
        " "
      ]
    },
    {
      "cell_type": "code",
      "metadata": {
        "id": "PFXYvj6e1qn_",
        "colab_type": "code",
        "colab": {
          "base_uri": "https://localhost:8080/",
          "height": 69
        },
        "outputId": "5634cd71-1bb5-4338-c92a-507c44312263"
      },
      "source": [
        "df.columns"
      ],
      "execution_count": null,
      "outputs": [
        {
          "output_type": "execute_result",
          "data": {
            "text/plain": [
              "Index(['PassengerId', 'Survived', 'Pclass', 'Name', 'Sex', 'Age', 'SibSp',\n",
              "       'Parch', 'Ticket', 'Fare', 'Cabin', 'Embarked'],\n",
              "      dtype='object')"
            ]
          },
          "metadata": {
            "tags": []
          },
          "execution_count": 6
        }
      ]
    },
    {
      "cell_type": "code",
      "metadata": {
        "id": "wvCw98mf2l_3",
        "colab_type": "code",
        "colab": {
          "base_uri": "https://localhost:8080/",
          "height": 243
        },
        "outputId": "3689c7b8-332f-439c-c663-2c71f58b7794"
      },
      "source": [
        "df.isnull().sum() "
      ],
      "execution_count": null,
      "outputs": [
        {
          "output_type": "execute_result",
          "data": {
            "text/plain": [
              "PassengerId      0\n",
              "Survived         0\n",
              "Pclass           0\n",
              "Name             0\n",
              "Sex              0\n",
              "Age            177\n",
              "SibSp            0\n",
              "Parch            0\n",
              "Ticket           0\n",
              "Fare             0\n",
              "Cabin          687\n",
              "Embarked         2\n",
              "dtype: int64"
            ]
          },
          "metadata": {
            "tags": []
          },
          "execution_count": 7
        }
      ]
    },
    {
      "cell_type": "markdown",
      "metadata": {
        "id": "QrfIhpyTLcT_",
        "colab_type": "text"
      },
      "source": [
        "Oops! There are a few missing values in the dataset, we'll do some feature engineering to get rid of these later."
      ]
    },
    {
      "cell_type": "code",
      "metadata": {
        "id": "QSsq_EZQ2ouf",
        "colab_type": "code",
        "colab": {
          "base_uri": "https://localhost:8080/",
          "height": 347
        },
        "outputId": "704ce940-8945-4717-d667-22bf4a366abc"
      },
      "source": [
        "df.info() "
      ],
      "execution_count": null,
      "outputs": [
        {
          "output_type": "stream",
          "text": [
            "<class 'pandas.core.frame.DataFrame'>\n",
            "RangeIndex: 891 entries, 0 to 890\n",
            "Data columns (total 12 columns):\n",
            " #   Column       Non-Null Count  Dtype  \n",
            "---  ------       --------------  -----  \n",
            " 0   PassengerId  891 non-null    int64  \n",
            " 1   Survived     891 non-null    int64  \n",
            " 2   Pclass       891 non-null    int64  \n",
            " 3   Name         891 non-null    object \n",
            " 4   Sex          891 non-null    object \n",
            " 5   Age          714 non-null    float64\n",
            " 6   SibSp        891 non-null    int64  \n",
            " 7   Parch        891 non-null    int64  \n",
            " 8   Ticket       891 non-null    object \n",
            " 9   Fare         891 non-null    float64\n",
            " 10  Cabin        204 non-null    object \n",
            " 11  Embarked     889 non-null    object \n",
            "dtypes: float64(2), int64(5), object(5)\n",
            "memory usage: 83.7+ KB\n"
          ],
          "name": "stdout"
        }
      ]
    },
    {
      "cell_type": "markdown",
      "metadata": {
        "id": "Kkdk_KJtL6oM",
        "colab_type": "text"
      },
      "source": [
        "##**PassengerID**"
      ]
    },
    {
      "cell_type": "markdown",
      "metadata": {
        "id": "PVmPZlI0MDvg",
        "colab_type": "text"
      },
      "source": [
        "Since passengerId does not have significant contribution to survival directly therefore we will Drop it."
      ]
    },
    {
      "cell_type": "code",
      "metadata": {
        "id": "gWwdBW-23jcC",
        "colab_type": "code",
        "colab": {}
      },
      "source": [
        "df.drop(['PassengerId'], axis=1, inplace=True)"
      ],
      "execution_count": null,
      "outputs": []
    },
    {
      "cell_type": "markdown",
      "metadata": {
        "id": "85HUhDnAMIju",
        "colab_type": "text"
      },
      "source": [
        "##**Pclass**"
      ]
    },
    {
      "cell_type": "code",
      "metadata": {
        "id": "xwI_SAs7QyJy",
        "colab_type": "code",
        "colab": {
          "base_uri": "https://localhost:8080/",
          "height": 350
        },
        "outputId": "f6148e5b-94e6-4a35-b440-5be89cbac044"
      },
      "source": [
        "fx, axes = plt.subplots(1, 2, figsize=(13, 5))\n",
        "axes[0].set_title(\"Pclass vs Frequency\", fontweight='bold')\n",
        "axes[1].set_title(\"Pclass vs Survival rate\", fontweight='bold')\n",
        "fig1_pclass = sns.countplot(data=df, x='Pclass', ax=axes[0])\n",
        "fig2_pclass = sns.barplot(data=df, x='Pclass', y='Survived', ax=axes[1]) "
      ],
      "execution_count": null,
      "outputs": [
        {
          "output_type": "display_data",
          "data": {
            "image/png": "[encoded data removed]",
            "text/plain": [
              "<Figure size 936x360 with 2 Axes>"
            ]
          },
          "metadata": {
            "tags": [],
            "needs_background": "light"
          }
        }
      ]
    },
    {
      "cell_type": "markdown",
      "metadata": {
        "id": "XOGUJ8udMXl3",
        "colab_type": "text"
      },
      "source": [
        "- As seen the population of passengers as per Pclass is ( 3 > 1 > 2) \n",
        "- Survival percentage as per classes is ( 1 > 2 > 3)\n",
        "- Inference: 1st class passengers have higher survival rate  "
      ]
    },
    {
      "cell_type": "markdown",
      "metadata": {
        "id": "SqYnFdGRMj_v",
        "colab_type": "text"
      },
      "source": [
        "##**Title Feature**"
      ]
    },
    {
      "cell_type": "code",
      "metadata": {
        "id": "5H7HkpUGTJyy",
        "colab_type": "code",
        "colab": {}
      },
      "source": [
        "df['Title'] = df['Name'].apply(lambda x: x.split(',')[1]).apply(lambda x: x.split()[0]) "
      ],
      "execution_count": null,
      "outputs": []
    },
    {
      "cell_type": "code",
      "metadata": {
        "id": "Tt1kuqfJQzk-",
        "colab_type": "code",
        "colab": {
          "base_uri": "https://localhost:8080/",
          "height": 621
        },
        "outputId": "398c84dc-3aba-42a2-962a-bbcaae384f15"
      },
      "source": [
        "fx, axes = plt.subplots(2, 1, figsize=(15, 10))\n",
        "axes[0].set_title(\"Title vs Frequency\", fontweight='bold')\n",
        "axes[1].set_title(\"Title vs Survival rate\", fontweight='bold')\n",
        "fig1_title = sns.countplot(data=df, x='Title', ax=axes[0])\n",
        "fig2_title = sns.barplot(data=df, x='Title', y='Survived', ax=axes[1]) "
      ],
      "execution_count": null,
      "outputs": [
        {
          "output_type": "display_data",
          "data": {
            "image/png": "[encoded data removed]",
            "text/plain": [
              "<Figure size 1080x720 with 2 Axes>"
            ]
          },
          "metadata": {
            "tags": [],
            "needs_background": "light"
          }
        }
      ]
    },
    {
      "cell_type": "markdown",
      "metadata": {
        "id": "9VXtAGS4M2CK",
        "colab_type": "text"
      },
      "source": [
        "##**Gender**"
      ]
    },
    {
      "cell_type": "code",
      "metadata": {
        "id": "VCdvaYbjQz3N",
        "colab_type": "code",
        "colab": {
          "base_uri": "https://localhost:8080/",
          "height": 404
        },
        "outputId": "cad45599-a575-4d61-b907-bac7447c9ca5"
      },
      "source": [
        "_, axes = plt.subplots(1, 2, figsize=(15, 6))\n",
        "axes[0].set_title(\"Gender vs Frequency\", fontweight='bold')\n",
        "axes[1].set_title(\"Gender vise Survival rate\", fontweight='bold')\n",
        "fig1_gen = sns.countplot(data=df, x='Sex', ax=axes[0])\n",
        "fig2_gen = sns.barplot(data=df, x='Sex', y='Survived', ax=axes[1]) "
      ],
      "execution_count": null,
      "outputs": [
        {
          "output_type": "display_data",
          "data": {
            "image/png": "[encoded data removed]",
            "text/plain": [
              "<Figure size 1080x432 with 2 Axes>"
            ]
          },
          "metadata": {
            "tags": [],
            "needs_background": "light"
          }
        }
      ]
    },
    {
      "cell_type": "markdown",
      "metadata": {
        "id": "RHLL55zvM5hx",
        "colab_type": "text"
      },
      "source": [
        "- As can be seen that (number of males > number of females) but Survival ratio is inverse\n",
        "- More females survived as compared to males "
      ]
    },
    {
      "cell_type": "markdown",
      "metadata": {
        "id": "IIts0tpQNMN3",
        "colab_type": "text"
      },
      "source": [
        "##**Age**"
      ]
    },
    {
      "cell_type": "code",
      "metadata": {
        "id": "mB3SQfIYNasZ",
        "colab_type": "code",
        "colab": {}
      },
      "source": [
        "# Creating a list of age values without null values\n",
        "training_age_n = df.Age.dropna(axis=0)"
      ],
      "execution_count": null,
      "outputs": []
    },
    {
      "cell_type": "code",
      "metadata": {
        "id": "wUqWcVlbNVAY",
        "colab_type": "code",
        "colab": {
          "base_uri": "https://localhost:8080/",
          "height": 350
        },
        "outputId": "055a8a3a-2216-417d-90c7-9f649c7ba46d"
      },
      "source": [
        "fx, axes = plt.subplots(1, 2, figsize=(15,5))\n",
        "axes[0].set_title(\"Age vs frequency\", fontweight='bold')\n",
        "axes[1].set_title(\"Age vise Survival rate\", fontweight='bold')\n",
        "fig1_age = sns.distplot(a=training_age_n, bins=15, ax=axes[0], hist_kws={'rwidth':0.7}) \n",
        "\n",
        "# Creating a new list of survived and dead\n",
        "\n",
        "pass_survived_age = df[df.Survived == 1].Age\n",
        "pass_dead_age = df[df.Survived == 0].Age\n",
        "\n",
        "axes[1].hist([df.Age, pass_survived_age, pass_dead_age], bins=5, range=(0, 100), label=['Total', 'Survived', 'Dead'])\n",
        "axes[1].legend()\n",
        "plt.show()"
      ],
      "execution_count": null,
      "outputs": [
        {
          "output_type": "display_data",
          "data": {
            "image/png": "[encoded data removed]",
            "text/plain": [
              "<Figure size 1080x360 with 2 Axes>"
            ]
          },
          "metadata": {
            "tags": [],
            "needs_background": "light"
          }
        }
      ]
    },
    {
      "cell_type": "markdown",
      "metadata": {
        "id": "qy18TssoODOA",
        "colab_type": "text"
      },
      "source": [
        "Observations:\n",
        "- Maximum passengers have age between 20-40 years\n",
        "- Survival rate is maximum for childrens and elderly "
      ]
    },
    {
      "cell_type": "markdown",
      "metadata": {
        "id": "Cdjec2mfN2N7",
        "colab_type": "text"
      },
      "source": [
        "##**SibSp And Parch**"
      ]
    },
    {
      "cell_type": "code",
      "metadata": {
        "id": "ae0ak-rgX2SI",
        "colab_type": "code",
        "colab": {}
      },
      "source": [
        "#No.of siblings/spouses aboard + No.of parents/children aboard + 1\n",
        "df['FamilySize'] = df['SibSp'] + df['Parch'] + 1"
      ],
      "execution_count": null,
      "outputs": []
    },
    {
      "cell_type": "code",
      "metadata": {
        "id": "DmzgQCrkX2kK",
        "colab_type": "code",
        "colab": {
          "base_uri": "https://localhost:8080/",
          "height": 350
        },
        "outputId": "d1dabb09-c92a-42a9-c243-ce08bf29422d"
      },
      "source": [
        "fx, axes = plt.subplots(1, 2, figsize=(15,5))\n",
        "axes[0].set_title('Family Size counts', fontweight='bold')\n",
        "axes[1].set_title('Survival Rate vs Family Size', fontweight='bold')\n",
        "fig1_family = sns.countplot(x=df.FamilySize, ax=axes[0])\n",
        "fig2_family = sns.barplot(x=df.FamilySize, y=df.Survived, ax=axes[1]) "
      ],
      "execution_count": null,
      "outputs": [
        {
          "output_type": "display_data",
          "data": {
            "image/png": "[encoded data removed]",
            "text/plain": [
              "<Figure size 1080x360 with 2 Axes>"
            ]
          },
          "metadata": {
            "tags": [],
            "needs_background": "light"
          }
        }
      ]
    },
    {
      "cell_type": "markdown",
      "metadata": {
        "id": "BOtxwZulN9RV",
        "colab_type": "text"
      },
      "source": [
        "As observed maximum passengers are alone but the survival is maximum for the family of 4 "
      ]
    },
    {
      "cell_type": "code",
      "metadata": {
        "id": "MpzL4YpCX2hA",
        "colab_type": "code",
        "colab": {}
      },
      "source": [
        "df['isAlone'] = df['FamilySize'].map(lambda x: 1 if x == 1 else 0) "
      ],
      "execution_count": null,
      "outputs": []
    },
    {
      "cell_type": "code",
      "metadata": {
        "id": "z8xHDsrSX2fG",
        "colab_type": "code",
        "colab": {
          "base_uri": "https://localhost:8080/",
          "height": 404
        },
        "outputId": "5035dc4e-0048-4478-e336-be93863bfdcb"
      },
      "source": [
        "fx, axes = plt.subplots(1, 2, figsize=(15, 6))\n",
        "axes[0].set_title('Is Alone counts', fontweight='bold')\n",
        "axes[1].set_title('Survival Rate vs Is Alone?', fontweight='bold')\n",
        "fig1_alone = sns.countplot(data=df, x='isAlone', ax=axes[0])\n",
        "fig2_alone = sns.barplot(data=df, x='isAlone', y='Survived', ax=axes[1])"
      ],
      "execution_count": null,
      "outputs": [
        {
          "output_type": "display_data",
          "data": {
            "image/png": "[encoded data removed]",
            "text/plain": [
              "<Figure size 1080x432 with 2 Axes>"
            ]
          },
          "metadata": {
            "tags": [],
            "needs_background": "light"
          }
        }
      ]
    },
    {
      "cell_type": "markdown",
      "metadata": {
        "id": "WQKssGvJOOgc",
        "colab_type": "text"
      },
      "source": [
        "As Observed the maximum passengers are alone but survival rate is highest for the family of 3-4 "
      ]
    },
    {
      "cell_type": "code",
      "metadata": {
        "id": "k6Pgkj0j8_KT",
        "colab_type": "code",
        "colab": {}
      },
      "source": [
        "# Making a new feature hasCabin which is 1 if cabin is available else 0\n",
        "df['hasCabin'] = df.Cabin.notnull().astype(int) "
      ],
      "execution_count": null,
      "outputs": []
    },
    {
      "cell_type": "code",
      "metadata": {
        "id": "Y3MhfsvN9Fqx",
        "colab_type": "code",
        "colab": {
          "base_uri": "https://localhost:8080/",
          "height": 388
        },
        "outputId": "3a4ac195-4416-4895-f510-dc7cbe95b2f1"
      },
      "source": [
        "fx, axes = plt.subplots(1, 2, figsize=(15, 6))\n",
        "fig1_hascabin = sns.countplot(data=df, x='hasCabin', ax=axes[0])\n",
        "fig2_hascabin = sns.barplot(data=df, x='hasCabin', y='Survived', ax=axes[1]) "
      ],
      "execution_count": null,
      "outputs": [
        {
          "output_type": "display_data",
          "data": {
            "image/png": "[encoded data removed]",
            "text/plain": [
              "<Figure size 1080x432 with 2 Axes>"
            ]
          },
          "metadata": {
            "tags": [],
            "needs_background": "light"
          }
        }
      ]
    },
    {
      "cell_type": "markdown",
      "metadata": {
        "id": "cayo_wxMOoFi",
        "colab_type": "text"
      },
      "source": [
        "As observed maximum population on titanic dataset does not have cabin but survival for having cabin is more."
      ]
    },
    {
      "cell_type": "markdown",
      "metadata": {
        "id": "n_8pCAuvO04l",
        "colab_type": "text"
      },
      "source": [
        "##**Embarked**"
      ]
    },
    {
      "cell_type": "code",
      "metadata": {
        "id": "Wv2DaZrh3wBJ",
        "colab_type": "code",
        "colab": {
          "base_uri": "https://localhost:8080/",
          "height": 350
        },
        "outputId": "28070641-8d0f-4fd8-ab0b-4456a76b4c5f"
      },
      "source": [
        "fx, axes = plt.subplots(1, 2, figsize=(15,5))\n",
        "axes[0].set_title('Embarked Counts', fontweight='bold')\n",
        "axes[1].set_title('Survival Rate vs Embarked', fontweight='bold')\n",
        "fig1_embarked = sns.countplot(x=df.Embarked, ax=axes[0])\n",
        "fig2_embarked = sns.barplot(x=df.Embarked, y=df.Survived, ax=axes[1])"
      ],
      "execution_count": null,
      "outputs": [
        {
          "output_type": "display_data",
          "data": {
            "image/png": "[encoded data removed]",
            "text/plain": [
              "<Figure size 1080x360 with 2 Axes>"
            ]
          },
          "metadata": {
            "tags": [],
            "needs_background": "light"
          }
        }
      ]
    },
    {
      "cell_type": "markdown",
      "metadata": {
        "id": "0xkvAsgwP9BV",
        "colab_type": "text"
      },
      "source": [
        "Observations:\n",
        "- The maximum passengers are from Southampton\n",
        "- The maximum survival rate is of the passengers who boarded from Cherbourg"
      ]
    },
    {
      "cell_type": "code",
      "metadata": {
        "id": "KSnly7b99bLh",
        "colab_type": "code",
        "colab": {
          "base_uri": "https://localhost:8080/",
          "height": 254
        },
        "outputId": "b1f57ac4-fcd1-450a-bc2a-7b1ce3b9e98d"
      },
      "source": [
        "df.head() "
      ],
      "execution_count": null,
      "outputs": [
        {
          "output_type": "execute_result",
          "data": {
            "text/html": [
              "<div>\n",
              "<style scoped>\n",
              "    .dataframe tbody tr th:only-of-type {\n",
              "        vertical-align: middle;\n",
              "    }\n",
              "\n",
              "    .dataframe tbody tr th {\n",
              "        vertical-align: top;\n",
              "    }\n",
              "\n",
              "    .dataframe thead th {\n",
              "        text-align: right;\n",
              "    }\n",
              "</style>\n",
              "<table border=\"1\" class=\"dataframe\">\n",
              "  <thead>\n",
              "    <tr style=\"text-align: right;\">\n",
              "      <th></th>\n",
              "      <th>Survived</th>\n",
              "      <th>Pclass</th>\n",
              "      <th>Name</th>\n",
              "      <th>Sex</th>\n",
              "      <th>Age</th>\n",
              "      <th>SibSp</th>\n",
              "      <th>Parch</th>\n",
              "      <th>Ticket</th>\n",
              "      <th>Fare</th>\n",
              "      <th>Cabin</th>\n",
              "      <th>Embarked</th>\n",
              "      <th>Title</th>\n",
              "      <th>FamilySize</th>\n",
              "      <th>isAlone</th>\n",
              "      <th>hasCabin</th>\n",
              "    </tr>\n",
              "  </thead>\n",
              "  <tbody>\n",
              "    <tr>\n",
              "      <th>0</th>\n",
              "      <td>0</td>\n",
              "      <td>3</td>\n",
              "      <td>Braund, Mr. Owen Harris</td>\n",
              "      <td>male</td>\n",
              "      <td>22.0</td>\n",
              "      <td>1</td>\n",
              "      <td>0</td>\n",
              "      <td>A/5 21171</td>\n",
              "      <td>7.2500</td>\n",
              "      <td>NaN</td>\n",
              "      <td>S</td>\n",
              "      <td>Mr.</td>\n",
              "      <td>2</td>\n",
              "      <td>0</td>\n",
              "      <td>0</td>\n",
              "    </tr>\n",
              "    <tr>\n",
              "      <th>1</th>\n",
              "      <td>1</td>\n",
              "      <td>1</td>\n",
              "      <td>Cumings, Mrs. John Bradley (Florence Briggs Th...</td>\n",
              "      <td>female</td>\n",
              "      <td>38.0</td>\n",
              "      <td>1</td>\n",
              "      <td>0</td>\n",
              "      <td>PC 17599</td>\n",
              "      <td>71.2833</td>\n",
              "      <td>C85</td>\n",
              "      <td>C</td>\n",
              "      <td>Mrs.</td>\n",
              "      <td>2</td>\n",
              "      <td>0</td>\n",
              "      <td>1</td>\n",
              "    </tr>\n",
              "    <tr>\n",
              "      <th>2</th>\n",
              "      <td>1</td>\n",
              "      <td>3</td>\n",
              "      <td>Heikkinen, Miss. Laina</td>\n",
              "      <td>female</td>\n",
              "      <td>26.0</td>\n",
              "      <td>0</td>\n",
              "      <td>0</td>\n",
              "      <td>STON/O2. 3101282</td>\n",
              "      <td>7.9250</td>\n",
              "      <td>NaN</td>\n",
              "      <td>S</td>\n",
              "      <td>Miss.</td>\n",
              "      <td>1</td>\n",
              "      <td>1</td>\n",
              "      <td>0</td>\n",
              "    </tr>\n",
              "    <tr>\n",
              "      <th>3</th>\n",
              "      <td>1</td>\n",
              "      <td>1</td>\n",
              "      <td>Futrelle, Mrs. Jacques Heath (Lily May Peel)</td>\n",
              "      <td>female</td>\n",
              "      <td>35.0</td>\n",
              "      <td>1</td>\n",
              "      <td>0</td>\n",
              "      <td>113803</td>\n",
              "      <td>53.1000</td>\n",
              "      <td>C123</td>\n",
              "      <td>S</td>\n",
              "      <td>Mrs.</td>\n",
              "      <td>2</td>\n",
              "      <td>0</td>\n",
              "      <td>1</td>\n",
              "    </tr>\n",
              "    <tr>\n",
              "      <th>4</th>\n",
              "      <td>0</td>\n",
              "      <td>3</td>\n",
              "      <td>Allen, Mr. William Henry</td>\n",
              "      <td>male</td>\n",
              "      <td>35.0</td>\n",
              "      <td>0</td>\n",
              "      <td>0</td>\n",
              "      <td>373450</td>\n",
              "      <td>8.0500</td>\n",
              "      <td>NaN</td>\n",
              "      <td>S</td>\n",
              "      <td>Mr.</td>\n",
              "      <td>1</td>\n",
              "      <td>1</td>\n",
              "      <td>0</td>\n",
              "    </tr>\n",
              "  </tbody>\n",
              "</table>\n",
              "</div>"
            ],
            "text/plain": [
              "   Survived  Pclass  ... isAlone hasCabin\n",
              "0         0       3  ...       0        0\n",
              "1         1       1  ...       0        1\n",
              "2         1       3  ...       1        0\n",
              "3         1       1  ...       0        1\n",
              "4         0       3  ...       1        0\n",
              "\n",
              "[5 rows x 15 columns]"
            ]
          },
          "metadata": {
            "tags": []
          },
          "execution_count": 23
        }
      ]
    },
    {
      "cell_type": "markdown",
      "metadata": {
        "id": "h5PdvttiQI1q",
        "colab_type": "text"
      },
      "source": [
        "##**Resolving Missing Values**"
      ]
    },
    {
      "cell_type": "code",
      "metadata": {
        "id": "uSXX3a324olY",
        "colab_type": "code",
        "colab": {
          "base_uri": "https://localhost:8080/",
          "height": 202
        },
        "outputId": "6b72e7bf-775f-4bc8-a648-7cd5b59cbc6f"
      },
      "source": [
        "df.drop(['Name', 'Ticket', 'Cabin', 'Title'], axis=1, inplace=True)\n",
        "df.head()  "
      ],
      "execution_count": null,
      "outputs": [
        {
          "output_type": "execute_result",
          "data": {
            "text/html": [
              "<div>\n",
              "<style scoped>\n",
              "    .dataframe tbody tr th:only-of-type {\n",
              "        vertical-align: middle;\n",
              "    }\n",
              "\n",
              "    .dataframe tbody tr th {\n",
              "        vertical-align: top;\n",
              "    }\n",
              "\n",
              "    .dataframe thead th {\n",
              "        text-align: right;\n",
              "    }\n",
              "</style>\n",
              "<table border=\"1\" class=\"dataframe\">\n",
              "  <thead>\n",
              "    <tr style=\"text-align: right;\">\n",
              "      <th></th>\n",
              "      <th>Survived</th>\n",
              "      <th>Pclass</th>\n",
              "      <th>Sex</th>\n",
              "      <th>Age</th>\n",
              "      <th>SibSp</th>\n",
              "      <th>Parch</th>\n",
              "      <th>Fare</th>\n",
              "      <th>Embarked</th>\n",
              "      <th>FamilySize</th>\n",
              "      <th>isAlone</th>\n",
              "      <th>hasCabin</th>\n",
              "    </tr>\n",
              "  </thead>\n",
              "  <tbody>\n",
              "    <tr>\n",
              "      <th>0</th>\n",
              "      <td>0</td>\n",
              "      <td>3</td>\n",
              "      <td>male</td>\n",
              "      <td>22.0</td>\n",
              "      <td>1</td>\n",
              "      <td>0</td>\n",
              "      <td>7.2500</td>\n",
              "      <td>S</td>\n",
              "      <td>2</td>\n",
              "      <td>0</td>\n",
              "      <td>0</td>\n",
              "    </tr>\n",
              "    <tr>\n",
              "      <th>1</th>\n",
              "      <td>1</td>\n",
              "      <td>1</td>\n",
              "      <td>female</td>\n",
              "      <td>38.0</td>\n",
              "      <td>1</td>\n",
              "      <td>0</td>\n",
              "      <td>71.2833</td>\n",
              "      <td>C</td>\n",
              "      <td>2</td>\n",
              "      <td>0</td>\n",
              "      <td>1</td>\n",
              "    </tr>\n",
              "    <tr>\n",
              "      <th>2</th>\n",
              "      <td>1</td>\n",
              "      <td>3</td>\n",
              "      <td>female</td>\n",
              "      <td>26.0</td>\n",
              "      <td>0</td>\n",
              "      <td>0</td>\n",
              "      <td>7.9250</td>\n",
              "      <td>S</td>\n",
              "      <td>1</td>\n",
              "      <td>1</td>\n",
              "      <td>0</td>\n",
              "    </tr>\n",
              "    <tr>\n",
              "      <th>3</th>\n",
              "      <td>1</td>\n",
              "      <td>1</td>\n",
              "      <td>female</td>\n",
              "      <td>35.0</td>\n",
              "      <td>1</td>\n",
              "      <td>0</td>\n",
              "      <td>53.1000</td>\n",
              "      <td>S</td>\n",
              "      <td>2</td>\n",
              "      <td>0</td>\n",
              "      <td>1</td>\n",
              "    </tr>\n",
              "    <tr>\n",
              "      <th>4</th>\n",
              "      <td>0</td>\n",
              "      <td>3</td>\n",
              "      <td>male</td>\n",
              "      <td>35.0</td>\n",
              "      <td>0</td>\n",
              "      <td>0</td>\n",
              "      <td>8.0500</td>\n",
              "      <td>S</td>\n",
              "      <td>1</td>\n",
              "      <td>1</td>\n",
              "      <td>0</td>\n",
              "    </tr>\n",
              "  </tbody>\n",
              "</table>\n",
              "</div>"
            ],
            "text/plain": [
              "   Survived  Pclass     Sex   Age  ...  Embarked  FamilySize  isAlone hasCabin\n",
              "0         0       3    male  22.0  ...         S           2        0        0\n",
              "1         1       1  female  38.0  ...         C           2        0        1\n",
              "2         1       3  female  26.0  ...         S           1        1        0\n",
              "3         1       1  female  35.0  ...         S           2        0        1\n",
              "4         0       3    male  35.0  ...         S           1        1        0\n",
              "\n",
              "[5 rows x 11 columns]"
            ]
          },
          "metadata": {
            "tags": []
          },
          "execution_count": 24
        }
      ]
    },
    {
      "cell_type": "code",
      "metadata": {
        "id": "y3ytiZjX_T_1",
        "colab_type": "code",
        "colab": {
          "base_uri": "https://localhost:8080/",
          "height": 225
        },
        "outputId": "8a685e43-de44-445f-a935-cb1f02d04a3b"
      },
      "source": [
        "df.isnull().sum() "
      ],
      "execution_count": null,
      "outputs": [
        {
          "output_type": "execute_result",
          "data": {
            "text/plain": [
              "Survived        0\n",
              "Pclass          0\n",
              "Sex             0\n",
              "Age           177\n",
              "SibSp           0\n",
              "Parch           0\n",
              "Fare            0\n",
              "Embarked        2\n",
              "FamilySize      0\n",
              "isAlone         0\n",
              "hasCabin        0\n",
              "dtype: int64"
            ]
          },
          "metadata": {
            "tags": []
          },
          "execution_count": 25
        }
      ]
    },
    {
      "cell_type": "markdown",
      "metadata": {
        "id": "TMHGj7PMQbqI",
        "colab_type": "text"
      },
      "source": [
        "Filling null vlaues in Age column by the overall mean of that column"
      ]
    },
    {
      "cell_type": "code",
      "metadata": {
        "id": "vbSbhIAs_24b",
        "colab_type": "code",
        "colab": {}
      },
      "source": [
        "df['Age'].fillna((df['Age'].mean()), inplace=True) "
      ],
      "execution_count": null,
      "outputs": []
    },
    {
      "cell_type": "code",
      "metadata": {
        "id": "C0B3E1FDAvjD",
        "colab_type": "code",
        "colab": {
          "base_uri": "https://localhost:8080/",
          "height": 225
        },
        "outputId": "410b2dec-f8ef-4f96-ef50-de201f857ad4"
      },
      "source": [
        "df.isnull().sum() "
      ],
      "execution_count": null,
      "outputs": [
        {
          "output_type": "execute_result",
          "data": {
            "text/plain": [
              "Survived      0\n",
              "Pclass        0\n",
              "Sex           0\n",
              "Age           0\n",
              "SibSp         0\n",
              "Parch         0\n",
              "Fare          0\n",
              "Embarked      2\n",
              "FamilySize    0\n",
              "isAlone       0\n",
              "hasCabin      0\n",
              "dtype: int64"
            ]
          },
          "metadata": {
            "tags": []
          },
          "execution_count": 27
        }
      ]
    },
    {
      "cell_type": "markdown",
      "metadata": {
        "id": "MWmo0tF8Qgwq",
        "colab_type": "text"
      },
      "source": [
        "Replacing nan values in every column by C, we only have Embarked left with nan so it wont harm the other values."
      ]
    },
    {
      "cell_type": "code",
      "metadata": {
        "id": "roTmJfjn_7s2",
        "colab_type": "code",
        "colab": {}
      },
      "source": [
        "df = df.replace(np.nan, 'C', regex=True)\n",
        "df = df.fillna('C') "
      ],
      "execution_count": null,
      "outputs": []
    },
    {
      "cell_type": "code",
      "metadata": {
        "id": "BFz3x4wEAbEa",
        "colab_type": "code",
        "colab": {
          "base_uri": "https://localhost:8080/",
          "height": 225
        },
        "outputId": "99ee220a-e47e-4a55-df6f-1f685534554d"
      },
      "source": [
        "df.isnull().sum() "
      ],
      "execution_count": null,
      "outputs": [
        {
          "output_type": "execute_result",
          "data": {
            "text/plain": [
              "Survived      0\n",
              "Pclass        0\n",
              "Sex           0\n",
              "Age           0\n",
              "SibSp         0\n",
              "Parch         0\n",
              "Fare          0\n",
              "Embarked      0\n",
              "FamilySize    0\n",
              "isAlone       0\n",
              "hasCabin      0\n",
              "dtype: int64"
            ]
          },
          "metadata": {
            "tags": []
          },
          "execution_count": 29
        }
      ]
    },
    {
      "cell_type": "code",
      "metadata": {
        "id": "ErlNswsjAzNR",
        "colab_type": "code",
        "colab": {
          "base_uri": "https://localhost:8080/",
          "height": 202
        },
        "outputId": "5ed67030-e63a-4c0a-a175-3fe1578c2dbe"
      },
      "source": [
        "df.head() "
      ],
      "execution_count": null,
      "outputs": [
        {
          "output_type": "execute_result",
          "data": {
            "text/html": [
              "<div>\n",
              "<style scoped>\n",
              "    .dataframe tbody tr th:only-of-type {\n",
              "        vertical-align: middle;\n",
              "    }\n",
              "\n",
              "    .dataframe tbody tr th {\n",
              "        vertical-align: top;\n",
              "    }\n",
              "\n",
              "    .dataframe thead th {\n",
              "        text-align: right;\n",
              "    }\n",
              "</style>\n",
              "<table border=\"1\" class=\"dataframe\">\n",
              "  <thead>\n",
              "    <tr style=\"text-align: right;\">\n",
              "      <th></th>\n",
              "      <th>Survived</th>\n",
              "      <th>Pclass</th>\n",
              "      <th>Sex</th>\n",
              "      <th>Age</th>\n",
              "      <th>SibSp</th>\n",
              "      <th>Parch</th>\n",
              "      <th>Fare</th>\n",
              "      <th>Embarked</th>\n",
              "      <th>FamilySize</th>\n",
              "      <th>isAlone</th>\n",
              "      <th>hasCabin</th>\n",
              "    </tr>\n",
              "  </thead>\n",
              "  <tbody>\n",
              "    <tr>\n",
              "      <th>0</th>\n",
              "      <td>0</td>\n",
              "      <td>3</td>\n",
              "      <td>male</td>\n",
              "      <td>22.0</td>\n",
              "      <td>1</td>\n",
              "      <td>0</td>\n",
              "      <td>7.2500</td>\n",
              "      <td>S</td>\n",
              "      <td>2</td>\n",
              "      <td>0</td>\n",
              "      <td>0</td>\n",
              "    </tr>\n",
              "    <tr>\n",
              "      <th>1</th>\n",
              "      <td>1</td>\n",
              "      <td>1</td>\n",
              "      <td>female</td>\n",
              "      <td>38.0</td>\n",
              "      <td>1</td>\n",
              "      <td>0</td>\n",
              "      <td>71.2833</td>\n",
              "      <td>C</td>\n",
              "      <td>2</td>\n",
              "      <td>0</td>\n",
              "      <td>1</td>\n",
              "    </tr>\n",
              "    <tr>\n",
              "      <th>2</th>\n",
              "      <td>1</td>\n",
              "      <td>3</td>\n",
              "      <td>female</td>\n",
              "      <td>26.0</td>\n",
              "      <td>0</td>\n",
              "      <td>0</td>\n",
              "      <td>7.9250</td>\n",
              "      <td>S</td>\n",
              "      <td>1</td>\n",
              "      <td>1</td>\n",
              "      <td>0</td>\n",
              "    </tr>\n",
              "    <tr>\n",
              "      <th>3</th>\n",
              "      <td>1</td>\n",
              "      <td>1</td>\n",
              "      <td>female</td>\n",
              "      <td>35.0</td>\n",
              "      <td>1</td>\n",
              "      <td>0</td>\n",
              "      <td>53.1000</td>\n",
              "      <td>S</td>\n",
              "      <td>2</td>\n",
              "      <td>0</td>\n",
              "      <td>1</td>\n",
              "    </tr>\n",
              "    <tr>\n",
              "      <th>4</th>\n",
              "      <td>0</td>\n",
              "      <td>3</td>\n",
              "      <td>male</td>\n",
              "      <td>35.0</td>\n",
              "      <td>0</td>\n",
              "      <td>0</td>\n",
              "      <td>8.0500</td>\n",
              "      <td>S</td>\n",
              "      <td>1</td>\n",
              "      <td>1</td>\n",
              "      <td>0</td>\n",
              "    </tr>\n",
              "  </tbody>\n",
              "</table>\n",
              "</div>"
            ],
            "text/plain": [
              "   Survived  Pclass     Sex   Age  ...  Embarked  FamilySize  isAlone hasCabin\n",
              "0         0       3    male  22.0  ...         S           2        0        0\n",
              "1         1       1  female  38.0  ...         C           2        0        1\n",
              "2         1       3  female  26.0  ...         S           1        1        0\n",
              "3         1       1  female  35.0  ...         S           2        0        1\n",
              "4         0       3    male  35.0  ...         S           1        1        0\n",
              "\n",
              "[5 rows x 11 columns]"
            ]
          },
          "metadata": {
            "tags": []
          },
          "execution_count": 30
        }
      ]
    },
    {
      "cell_type": "markdown",
      "metadata": {
        "id": "ueHCCMKsQxgU",
        "colab_type": "text"
      },
      "source": [
        "##**Resolving categorical data** "
      ]
    },
    {
      "cell_type": "code",
      "metadata": {
        "id": "0lZlA1DX-RvK",
        "colab_type": "code",
        "colab": {}
      },
      "source": [
        "gender = {'male': 1,'female': 2} \n",
        "#Port of Embarkation\n",
        "embark = {'C': 0, 'Q': 1, 'S': 2}\n",
        "df.Sex = [gender[item] for item in df.Sex]  \n",
        "df.Embarked = [embark[item] for item in df.Embarked] "
      ],
      "execution_count": null,
      "outputs": []
    },
    {
      "cell_type": "code",
      "metadata": {
        "id": "KHh_cH8yA9J0",
        "colab_type": "code",
        "colab": {
          "base_uri": "https://localhost:8080/",
          "height": 202
        },
        "outputId": "95fe95d6-0283-41a1-bd5e-0ad6b65909da"
      },
      "source": [
        "df.head() "
      ],
      "execution_count": null,
      "outputs": [
        {
          "output_type": "execute_result",
          "data": {
            "text/html": [
              "<div>\n",
              "<style scoped>\n",
              "    .dataframe tbody tr th:only-of-type {\n",
              "        vertical-align: middle;\n",
              "    }\n",
              "\n",
              "    .dataframe tbody tr th {\n",
              "        vertical-align: top;\n",
              "    }\n",
              "\n",
              "    .dataframe thead th {\n",
              "        text-align: right;\n",
              "    }\n",
              "</style>\n",
              "<table border=\"1\" class=\"dataframe\">\n",
              "  <thead>\n",
              "    <tr style=\"text-align: right;\">\n",
              "      <th></th>\n",
              "      <th>Survived</th>\n",
              "      <th>Pclass</th>\n",
              "      <th>Sex</th>\n",
              "      <th>Age</th>\n",
              "      <th>SibSp</th>\n",
              "      <th>Parch</th>\n",
              "      <th>Fare</th>\n",
              "      <th>Embarked</th>\n",
              "      <th>FamilySize</th>\n",
              "      <th>isAlone</th>\n",
              "      <th>hasCabin</th>\n",
              "    </tr>\n",
              "  </thead>\n",
              "  <tbody>\n",
              "    <tr>\n",
              "      <th>0</th>\n",
              "      <td>0</td>\n",
              "      <td>3</td>\n",
              "      <td>1</td>\n",
              "      <td>22.0</td>\n",
              "      <td>1</td>\n",
              "      <td>0</td>\n",
              "      <td>7.2500</td>\n",
              "      <td>2</td>\n",
              "      <td>2</td>\n",
              "      <td>0</td>\n",
              "      <td>0</td>\n",
              "    </tr>\n",
              "    <tr>\n",
              "      <th>1</th>\n",
              "      <td>1</td>\n",
              "      <td>1</td>\n",
              "      <td>2</td>\n",
              "      <td>38.0</td>\n",
              "      <td>1</td>\n",
              "      <td>0</td>\n",
              "      <td>71.2833</td>\n",
              "      <td>0</td>\n",
              "      <td>2</td>\n",
              "      <td>0</td>\n",
              "      <td>1</td>\n",
              "    </tr>\n",
              "    <tr>\n",
              "      <th>2</th>\n",
              "      <td>1</td>\n",
              "      <td>3</td>\n",
              "      <td>2</td>\n",
              "      <td>26.0</td>\n",
              "      <td>0</td>\n",
              "      <td>0</td>\n",
              "      <td>7.9250</td>\n",
              "      <td>2</td>\n",
              "      <td>1</td>\n",
              "      <td>1</td>\n",
              "      <td>0</td>\n",
              "    </tr>\n",
              "    <tr>\n",
              "      <th>3</th>\n",
              "      <td>1</td>\n",
              "      <td>1</td>\n",
              "      <td>2</td>\n",
              "      <td>35.0</td>\n",
              "      <td>1</td>\n",
              "      <td>0</td>\n",
              "      <td>53.1000</td>\n",
              "      <td>2</td>\n",
              "      <td>2</td>\n",
              "      <td>0</td>\n",
              "      <td>1</td>\n",
              "    </tr>\n",
              "    <tr>\n",
              "      <th>4</th>\n",
              "      <td>0</td>\n",
              "      <td>3</td>\n",
              "      <td>1</td>\n",
              "      <td>35.0</td>\n",
              "      <td>0</td>\n",
              "      <td>0</td>\n",
              "      <td>8.0500</td>\n",
              "      <td>2</td>\n",
              "      <td>1</td>\n",
              "      <td>1</td>\n",
              "      <td>0</td>\n",
              "    </tr>\n",
              "  </tbody>\n",
              "</table>\n",
              "</div>"
            ],
            "text/plain": [
              "   Survived  Pclass  Sex   Age  ...  Embarked  FamilySize  isAlone  hasCabin\n",
              "0         0       3    1  22.0  ...         2           2        0         0\n",
              "1         1       1    2  38.0  ...         0           2        0         1\n",
              "2         1       3    2  26.0  ...         2           1        1         0\n",
              "3         1       1    2  35.0  ...         2           2        0         1\n",
              "4         0       3    1  35.0  ...         2           1        1         0\n",
              "\n",
              "[5 rows x 11 columns]"
            ]
          },
          "metadata": {
            "tags": []
          },
          "execution_count": 32
        }
      ]
    },
    {
      "cell_type": "code",
      "metadata": {
        "id": "8dmNyyeWX2c_",
        "colab_type": "code",
        "colab": {}
      },
      "source": [
        "X = df.iloc[:, 1:11].values\n",
        "y = df.iloc[:, 0].values"
      ],
      "execution_count": null,
      "outputs": []
    },
    {
      "cell_type": "code",
      "metadata": {
        "id": "_WWRteTEX2aG",
        "colab_type": "code",
        "colab": {}
      },
      "source": [
        "# Splitting the dataset into training and test set\n",
        "\n",
        "X_train, X_test, y_train, y_test = train_test_split(X, y, test_size=0.17) "
      ],
      "execution_count": null,
      "outputs": []
    },
    {
      "cell_type": "code",
      "metadata": {
        "id": "G1-GDnknXVit",
        "colab_type": "code",
        "colab": {}
      },
      "source": [
        "# Feature Scaling\n",
        "\n",
        "scaler_x = MinMaxScaler((-1,1))\n",
        "X_train = scaler_x.fit_transform(X_train)\n",
        "X_test = scaler_x.transform(X_test)  "
      ],
      "execution_count": null,
      "outputs": []
    },
    {
      "cell_type": "code",
      "metadata": {
        "id": "xrk69PJRBQm1",
        "colab_type": "code",
        "colab": {}
      },
      "source": [
        "# Making a list of accuracies\n",
        "accuracies = [] "
      ],
      "execution_count": null,
      "outputs": []
    },
    {
      "cell_type": "markdown",
      "metadata": {
        "id": "dBdhHJK5Q0IT",
        "colab_type": "text"
      },
      "source": [
        "##**Logistic Regression**"
      ]
    },
    {
      "cell_type": "code",
      "metadata": {
        "id": "QxRmZppdBQvP",
        "colab_type": "code",
        "colab": {
          "base_uri": "https://localhost:8080/",
          "height": 104
        },
        "outputId": "baf5ac38-f804-4c22-85f8-573d0929d9d3"
      },
      "source": [
        "classifier = LogisticRegression()\n",
        "classifier.fit(X_train, y_train) "
      ],
      "execution_count": null,
      "outputs": [
        {
          "output_type": "execute_result",
          "data": {
            "text/plain": [
              "LogisticRegression(C=1.0, class_weight=None, dual=False, fit_intercept=True,\n",
              "                   intercept_scaling=1, l1_ratio=None, max_iter=100,\n",
              "                   multi_class='auto', n_jobs=None, penalty='l2',\n",
              "                   random_state=None, solver='lbfgs', tol=0.0001, verbose=0,\n",
              "                   warm_start=False)"
            ]
          },
          "metadata": {
            "tags": []
          },
          "execution_count": 37
        }
      ]
    },
    {
      "cell_type": "code",
      "metadata": {
        "id": "FMWXLL2nBQrb",
        "colab_type": "code",
        "colab": {
          "base_uri": "https://localhost:8080/",
          "height": 35
        },
        "outputId": "b05b6dff-7757-41a8-8d56-c4a4dbc1f79b"
      },
      "source": [
        "lr_score = classifier.score(X_test, y_test)\n",
        "accuracies.append(lr_score)\n",
        "print(lr_score) "
      ],
      "execution_count": null,
      "outputs": [
        {
          "output_type": "stream",
          "text": [
            "0.7763157894736842\n"
          ],
          "name": "stdout"
        }
      ]
    },
    {
      "cell_type": "markdown",
      "metadata": {
        "id": "IJk6t5tuQ3sC",
        "colab_type": "text"
      },
      "source": [
        "##**Support Vector Machine - Linear Kernel**"
      ]
    },
    {
      "cell_type": "code",
      "metadata": {
        "id": "ToWTljCRBQp7",
        "colab_type": "code",
        "colab": {
          "base_uri": "https://localhost:8080/",
          "height": 87
        },
        "outputId": "9dd029a0-bfca-4830-ae8b-e48a08c101d6"
      },
      "source": [
        "svm = SVC(kernel='linear')\n",
        "svm.fit(X_train, y_train) "
      ],
      "execution_count": null,
      "outputs": [
        {
          "output_type": "execute_result",
          "data": {
            "text/plain": [
              "SVC(C=1.0, break_ties=False, cache_size=200, class_weight=None, coef0=0.0,\n",
              "    decision_function_shape='ovr', degree=3, gamma='scale', kernel='linear',\n",
              "    max_iter=-1, probability=False, random_state=None, shrinking=True,\n",
              "    tol=0.001, verbose=False)"
            ]
          },
          "metadata": {
            "tags": []
          },
          "execution_count": 39
        }
      ]
    },
    {
      "cell_type": "code",
      "metadata": {
        "id": "o4odF4MCBQks",
        "colab_type": "code",
        "colab": {
          "base_uri": "https://localhost:8080/",
          "height": 35
        },
        "outputId": "dec0c48a-3b75-4720-fb7c-ca6c6c089397"
      },
      "source": [
        "svm_score = svm.score(X_test, y_test)\n",
        "accuracies.append(svm_score)\n",
        "print(svm_score) "
      ],
      "execution_count": null,
      "outputs": [
        {
          "output_type": "stream",
          "text": [
            "0.7368421052631579\n"
          ],
          "name": "stdout"
        }
      ]
    },
    {
      "cell_type": "markdown",
      "metadata": {
        "id": "tBrQ4KWoQ_Gc",
        "colab_type": "text"
      },
      "source": [
        "##**Support Vector Machine - RBF Kernel**"
      ]
    },
    {
      "cell_type": "code",
      "metadata": {
        "id": "A-isjoVZEYKL",
        "colab_type": "code",
        "colab": {
          "base_uri": "https://localhost:8080/",
          "height": 87
        },
        "outputId": "4ad3fb22-76b8-4960-f401-e008ba579a68"
      },
      "source": [
        "k_svm = SVC(kernel='rbf')\n",
        "k_svm.fit(X_train, y_train) "
      ],
      "execution_count": null,
      "outputs": [
        {
          "output_type": "execute_result",
          "data": {
            "text/plain": [
              "SVC(C=1.0, break_ties=False, cache_size=200, class_weight=None, coef0=0.0,\n",
              "    decision_function_shape='ovr', degree=3, gamma='scale', kernel='rbf',\n",
              "    max_iter=-1, probability=False, random_state=None, shrinking=True,\n",
              "    tol=0.001, verbose=False)"
            ]
          },
          "metadata": {
            "tags": []
          },
          "execution_count": 41
        }
      ]
    },
    {
      "cell_type": "code",
      "metadata": {
        "id": "oUkeu2ACEYSi",
        "colab_type": "code",
        "colab": {
          "base_uri": "https://localhost:8080/",
          "height": 35
        },
        "outputId": "f7d99490-7496-4940-eb23-b0400b01f1f4"
      },
      "source": [
        "k_svm_score = k_svm.score(X_test, y_test)\n",
        "accuracies.append(k_svm_score)\n",
        "print(k_svm_score) "
      ],
      "execution_count": null,
      "outputs": [
        {
          "output_type": "stream",
          "text": [
            "0.7763157894736842\n"
          ],
          "name": "stdout"
        }
      ]
    },
    {
      "cell_type": "markdown",
      "metadata": {
        "id": "GvpDR8FFRF86",
        "colab_type": "text"
      },
      "source": [
        "##**KNN Classifier**"
      ]
    },
    {
      "cell_type": "code",
      "metadata": {
        "id": "9DReDMEhEYOy",
        "colab_type": "code",
        "colab": {
          "base_uri": "https://localhost:8080/",
          "height": 69
        },
        "outputId": "281da338-e964-4713-9f02-d91cf83deba8"
      },
      "source": [
        "knn = KNeighborsClassifier(p=2, n_neighbors=10)\n",
        "knn.fit(X_train, y_train)"
      ],
      "execution_count": null,
      "outputs": [
        {
          "output_type": "execute_result",
          "data": {
            "text/plain": [
              "KNeighborsClassifier(algorithm='auto', leaf_size=30, metric='minkowski',\n",
              "                     metric_params=None, n_jobs=None, n_neighbors=10, p=2,\n",
              "                     weights='uniform')"
            ]
          },
          "metadata": {
            "tags": []
          },
          "execution_count": 43
        }
      ]
    },
    {
      "cell_type": "code",
      "metadata": {
        "id": "yLepIuGNEYNV",
        "colab_type": "code",
        "colab": {
          "base_uri": "https://localhost:8080/",
          "height": 35
        },
        "outputId": "1afb5aef-256e-4f6a-e1ad-e9dae602ad74"
      },
      "source": [
        "knn_score = knn.score(X_test, y_test)\n",
        "accuracies.append(knn_score)\n",
        "print(knn_score) "
      ],
      "execution_count": null,
      "outputs": [
        {
          "output_type": "stream",
          "text": [
            "0.7697368421052632\n"
          ],
          "name": "stdout"
        }
      ]
    },
    {
      "cell_type": "markdown",
      "metadata": {
        "id": "Q_lCxaRWRI_m",
        "colab_type": "text"
      },
      "source": [
        "##**Random Forest Classifier**"
      ]
    },
    {
      "cell_type": "code",
      "metadata": {
        "id": "_dPQRiwcEYIO",
        "colab_type": "code",
        "colab": {
          "base_uri": "https://localhost:8080/",
          "height": 156
        },
        "outputId": "c7abac8e-bf84-4496-9846-dd8c6f84342c"
      },
      "source": [
        "rfc = RandomForestClassifier(n_estimators=1000, criterion='gini')\n",
        "rfc.fit(X_train, y_train) "
      ],
      "execution_count": null,
      "outputs": [
        {
          "output_type": "execute_result",
          "data": {
            "text/plain": [
              "RandomForestClassifier(bootstrap=True, ccp_alpha=0.0, class_weight=None,\n",
              "                       criterion='gini', max_depth=None, max_features='auto',\n",
              "                       max_leaf_nodes=None, max_samples=None,\n",
              "                       min_impurity_decrease=0.0, min_impurity_split=None,\n",
              "                       min_samples_leaf=1, min_samples_split=2,\n",
              "                       min_weight_fraction_leaf=0.0, n_estimators=1000,\n",
              "                       n_jobs=None, oob_score=False, random_state=None,\n",
              "                       verbose=0, warm_start=False)"
            ]
          },
          "metadata": {
            "tags": []
          },
          "execution_count": 45
        }
      ]
    },
    {
      "cell_type": "code",
      "metadata": {
        "id": "4sspLoSpEqPH",
        "colab_type": "code",
        "colab": {
          "base_uri": "https://localhost:8080/",
          "height": 52
        },
        "outputId": "c940693d-919f-408b-879d-2169683db2ab"
      },
      "source": [
        "rfc_score = rfc.score(X_test, y_test)\n",
        "rfc_score_tr = rfc.score(X_train, y_train)\n",
        "accuracies.append(rfc_score)\n",
        "print(rfc_score)\n",
        "print(rfc_score_tr)"
      ],
      "execution_count": null,
      "outputs": [
        {
          "output_type": "stream",
          "text": [
            "0.8092105263157895\n",
            "0.9878213802435724\n"
          ],
          "name": "stdout"
        }
      ]
    },
    {
      "cell_type": "code",
      "metadata": {
        "id": "sIzZPr9GEqX6",
        "colab_type": "code",
        "colab": {}
      },
      "source": [
        "myLabels = ['Logistic Regression', 'SVM', 'Kernel SVM', 'KNN', 'Random Forest'] "
      ],
      "execution_count": null,
      "outputs": []
    },
    {
      "cell_type": "code",
      "metadata": {
        "id": "m_anpJMDEqey",
        "colab_type": "code",
        "colab": {
          "base_uri": "https://localhost:8080/",
          "height": 265
        },
        "outputId": "c183aba7-124c-41c0-a068-2324daad5e14"
      },
      "source": [
        "fig1_accu= sns.barplot(x=accuracies, y=myLabels) "
      ],
      "execution_count": null,
      "outputs": [
        {
          "output_type": "display_data",
          "data": {
            "image/png": "[encoded data removed]",
            "text/plain": [
              "<Figure size 432x288 with 1 Axes>"
            ]
          },
          "metadata": {
            "tags": [],
            "needs_background": "light"
          }
        }
      ]
    },
    {
      "cell_type": "markdown",
      "metadata": {
        "id": "oCVBiJNxRTbx",
        "colab_type": "text"
      },
      "source": [
        "As observed Random Forest performs best.\n",
        "\n",
        "Since Random Forest scores best, we will apply Grid Search CV on RF"
      ]
    },
    {
      "cell_type": "markdown",
      "metadata": {
        "id": "zd8Jg7CQSRS9",
        "colab_type": "text"
      },
      "source": [
        "#**GridSearchCV!!** "
      ]
    },
    {
      "cell_type": "markdown",
      "metadata": {
        "id": "uREfTQM4SSdr",
        "colab_type": "text"
      },
      "source": [
        "You can pass your model parameters and GridSearch will return the best parameters that fit the dataset for that classifier!!"
      ]
    },
    {
      "cell_type": "code",
      "metadata": {
        "id": "imIqjWOHRnCk",
        "colab_type": "code",
        "colab": {
          "base_uri": "https://localhost:8080/",
          "height": 416
        },
        "outputId": "85fb4295-69c6-4f0a-fe49-578f61d88077"
      },
      "source": [
        "# grid search method \n",
        "param_grid = {'n_estimators': [1, 10, 20, 50, 100, 150, 200, 1000, 2000],\n",
        "              'criterion': ['gini', 'entropy'],\n",
        "              'min_samples_leaf': [1, 2, 3, 4, 5]}\n",
        "GS = GridSearchCV(RandomForestClassifier(),param_grid) \n",
        "GS.fit(X_train, y_train) "
      ],
      "execution_count": null,
      "outputs": [
        {
          "output_type": "execute_result",
          "data": {
            "text/plain": [
              "GridSearchCV(cv=None, error_score=nan,\n",
              "             estimator=RandomForestClassifier(bootstrap=True, ccp_alpha=0.0,\n",
              "                                              class_weight=None,\n",
              "                                              criterion='gini', max_depth=None,\n",
              "                                              max_features='auto',\n",
              "                                              max_leaf_nodes=None,\n",
              "                                              max_samples=None,\n",
              "                                              min_impurity_decrease=0.0,\n",
              "                                              min_impurity_split=None,\n",
              "                                              min_samples_leaf=1,\n",
              "                                              min_samples_split=2,\n",
              "                                              min_weight_fraction_leaf=0.0,\n",
              "                                              n_estimators=100, n_jobs=None,\n",
              "                                              oob_score=False,\n",
              "                                              random_state=None, verbose=0,\n",
              "                                              warm_start=False),\n",
              "             iid='deprecated', n_jobs=None,\n",
              "             param_grid={'criterion': ['gini', 'entropy'],\n",
              "                         'min_samples_leaf': [1, 2, 3, 4, 5],\n",
              "                         'n_estimators': [1, 10, 20, 50, 100, 150, 200, 1000,\n",
              "                                          2000]},\n",
              "             pre_dispatch='2*n_jobs', refit=True, return_train_score=False,\n",
              "             scoring=None, verbose=0)"
            ]
          },
          "metadata": {
            "tags": []
          },
          "execution_count": 49
        }
      ]
    },
    {
      "cell_type": "code",
      "metadata": {
        "id": "TxPS5nonRnOt",
        "colab_type": "code",
        "colab": {
          "base_uri": "https://localhost:8080/",
          "height": 52
        },
        "outputId": "eb80a042-b40e-4bd9-f569-829542a79c11"
      },
      "source": [
        "print(\"the parameters {} are the best.\".format(GS.best_params_))\n",
        "print(\"the best score is {:.2f}.\".format(GS.best_score_)) "
      ],
      "execution_count": null,
      "outputs": [
        {
          "output_type": "stream",
          "text": [
            "the parameters {'criterion': 'entropy', 'min_samples_leaf': 2, 'n_estimators': 50} are the best.\n",
            "the best score is 0.83.\n"
          ],
          "name": "stdout"
        }
      ]
    },
    {
      "cell_type": "markdown",
      "metadata": {
        "id": "_rjEJc3VbjRL",
        "colab_type": "text"
      },
      "source": [
        "##**Confusion Matrix**"
      ]
    },
    {
      "cell_type": "code",
      "metadata": {
        "id": "WkJI3N9N7X4k",
        "colab_type": "code",
        "colab": {
          "base_uri": "https://localhost:8080/",
          "height": 350
        },
        "outputId": "a01dc7c9-52a4-4fc7-ac21-6cdabc691517"
      },
      "source": [
        "y_pred = rfc.predict(X_test)  \n",
        "cm = confusion_matrix(y_pred, y_test) \n",
        "fig, ax = plt.subplots(figsize=(8,5))\n",
        "sns.heatmap(cm, annot = True, cmap = 'YlGnBu', fmt='g'); \n",
        "plt.title('Confusion matrix', fontweight='bold')\n",
        "plt.ylabel('Actual label', fontweight='bold')\n",
        "plt.xlabel('Predicted label', fontweight='bold'); "
      ],
      "execution_count": null,
      "outputs": [
        {
          "output_type": "display_data",
          "data": {
            "image/png": "[encoded data removed]",
            "text/plain": [
              "<Figure size 576x360 with 2 Axes>"
            ]
          },
          "metadata": {
            "tags": [],
            "needs_background": "light"
          }
        }
      ]
    },
    {
      "cell_type": "markdown",
      "metadata": {
        "id": "Gvy1-suHWQJ7",
        "colab_type": "text"
      },
      "source": [
        "#**Summary**\n",
        "- You have learned to do some EDA and feature engineering for a cleaner dataset.\n",
        "- Trained data on 5 differnt Classifiers\n",
        "- Used GridSearchCV for best hyperparameter choices"
      ]
    },
    {
      "cell_type": "markdown",
      "metadata": {
        "id": "SkgeWh-sWvlw",
        "colab_type": "text"
      },
      "source": [
        "#**References**\n",
        "- [DT](https://scikit-learn.org/stable/modules/tree.html)\n",
        "- [GridSearchCV](https://scikit-learn.org/stable/modules/generated/sklearn.model_selection.GridSearchCV.html)\n",
        "- [RFC](https://scikit-learn.org/stable/modules/generated/sklearn.ensemble.RandomForestClassifier.html)"
      ]
    }
  ]
}
